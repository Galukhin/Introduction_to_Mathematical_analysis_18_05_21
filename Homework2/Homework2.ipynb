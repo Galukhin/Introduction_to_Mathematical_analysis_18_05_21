{
 "cells": [
  {
   "cell_type": "markdown",
   "metadata": {},
   "source": [
    "Даны три множества a,b и с. Необходимо выполнить все изученные виды бинарных операций над всеми комбинациями множеств"
   ]
  },
  {
   "cell_type": "code",
   "execution_count": 1,
   "metadata": {},
   "outputs": [
    {
     "name": "stdout",
     "output_type": "stream",
     "text": [
      "{1, 2, 3, 4, 5, 6, 7, 8}\n",
      "{3, 4}\n",
      "{1, 2, 5}\n",
      "{8, 6, 7}\n",
      "{1, 2, 5, 6, 7, 8}\n",
      "{1, 2, 3, 4, 5, 6, 9, 10}\n",
      "{4, 5}\n",
      "{1, 2, 3}\n",
      "{9, 10, 6}\n",
      "{1, 2, 3, 6, 9, 10}\n",
      "{3, 4, 5, 6, 7, 8, 9, 10}\n",
      "{4, 6}\n",
      "{8, 3, 7}\n",
      "{9, 10, 5}\n",
      "{3, 5, 7, 8, 9, 10}\n"
     ]
    }
   ],
   "source": [
    "a = set([1, 2, 3, 4, 5])\n",
    "b = set([3, 4, 6, 7, 8])\n",
    "c = set([4, 5, 6, 9, 10])\n",
    "\n",
    "# множества a и b\n",
    "\n",
    "aub = a.union(b) # объединения множеств\n",
    "aib = a.intersection(b) # пересечение множеств\n",
    "adb = a.difference(b) # разность а и b\n",
    "bda = b.difference(a) # разность b и a\n",
    "asdb = a.symmetric_difference(b) # симметрическая разность\n",
    "\n",
    "# множества a и c\n",
    "auc = a.union(c)\n",
    "aic = a.intersection(c)\n",
    "adc = a.difference(c)\n",
    "cda = c.difference(a)\n",
    "asdc = a.symmetric_difference(c)\n",
    "\n",
    "# множества b и c\n",
    "buc = b | c\n",
    "bic = b & c\n",
    "bdc = b - c\n",
    "cdb = c - b\n",
    "bsdc = b ^ c\n",
    "\n",
    "print(aub)\n",
    "print(aib)\n",
    "print(adb)\n",
    "print(bda)\n",
    "print(asdb)\n",
    "\n",
    "print(auc)\n",
    "print(aic)\n",
    "print(adc)\n",
    "print(cda)\n",
    "print(asdc)\n",
    "\n",
    "print(buc)\n",
    "print(bic)\n",
    "print(bdc)\n",
    "print(cdb)\n",
    "print(bsdc)"
   ]
  }
 ],
 "metadata": {
  "kernelspec": {
   "display_name": "Python 3",
   "language": "python",
   "name": "python3"
  },
  "language_info": {
   "codemirror_mode": {
    "name": "ipython",
    "version": 3
   },
   "file_extension": ".py",
   "mimetype": "text/x-python",
   "name": "python",
   "nbconvert_exporter": "python",
   "pygments_lexer": "ipython3",
   "version": "3.8.5"
  }
 },
 "nbformat": 4,
 "nbformat_minor": 4
}
