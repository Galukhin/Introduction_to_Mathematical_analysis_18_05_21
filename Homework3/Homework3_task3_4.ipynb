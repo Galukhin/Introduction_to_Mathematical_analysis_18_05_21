{
 "cells": [
  {
   "cell_type": "markdown",
   "metadata": {},
   "source": [
    "3. На языке Python предложить алгоритм вычисляющий численно предел выражения n / (factorial(n) ** (1 / n)) при n, стремящемся к бесконечности, с точностью E-7"
   ]
  },
  {
   "cell_type": "code",
   "execution_count": 1,
   "metadata": {
    "scrolled": false
   },
   "outputs": [],
   "source": [
    "def fac_pow(n):\n",
    "    result = 1\n",
    "    k = n\n",
    "    while k > 1:\n",
    "        result *= (k ** (1 / n)) # вычисляю таким образом, чтоб не было переполнения float\n",
    "        k -= 1\n",
    "    return result\n",
    "\n",
    "def expression(n):\n",
    "    return n / fac_pow(n)\n",
    "\n",
    "def limit_expression(eps):\n",
    "    n = 2\n",
    "    while True:\n",
    "        if expression(n) - expression(n - 1) <= eps:\n",
    "            print(f'Количетво итераций: {n-1}')\n",
    "            break\n",
    "        n += 1\n",
    "    return expression(n)"
   ]
  },
  {
   "cell_type": "code",
   "execution_count": 2,
   "metadata": {},
   "outputs": [
    {
     "name": "stdout",
     "output_type": "stream",
     "text": [
      "Количетво итераций: 11778\n",
      "Wall time: 1min 27s\n"
     ]
    },
    {
     "data": {
      "text/plain": [
       "2.716988423724227"
      ]
     },
     "execution_count": 2,
     "metadata": {},
     "output_type": "execute_result"
    }
   ],
   "source": [
    "%%time\n",
    "lim_expr = limit_expression(1E-7)\n",
    "lim_expr"
   ]
  },
  {
   "cell_type": "markdown",
   "metadata": {},
   "source": [
    "### Примечание \n",
    "Видно, что этот предел стремится к е, но предел вычислен с точностью до 2-го знака, а не 7-го. Чтобы вычислить с необходимой точностью, по критерию Коши нужно, чтоб сумма разностей между последующими значениями ряда была меньше эпсилон (сходилась к ней). Но как реализовать такой алгоритм численными методами, я не понимаю. "
   ]
  },
  {
   "cell_type": "markdown",
   "metadata": {},
   "source": [
    "4. Предложить оптимизацию алгоритма, полученного в задании 3, ускоряющую его сходимость.\n",
    "\n",
    "Самый быстрый способ поиска в упорядоченной последовательности - бинарный поиск. Тут можно попробовать сделать похожим способом, с той лишь разницей, что при бинарном поиске диапазон вдвое уменьшается, а тут мы будем вдвое увеличивать n"
   ]
  },
  {
   "cell_type": "code",
   "execution_count": 3,
   "metadata": {},
   "outputs": [],
   "source": [
    "def limit_expression2(eps):\n",
    "    n = 2\n",
    "    step = 1\n",
    "    while True:\n",
    "        if expression(n) - expression(n - 1) <= eps:\n",
    "            print(f'Количетво итераций: {step},\\nЗначение n: {n}')\n",
    "            break\n",
    "        n = n<<1 # бинарный сдвиг влево, аналогично умножению на 2\n",
    "        step += 1\n",
    "    return expression(n)"
   ]
  },
  {
   "cell_type": "code",
   "execution_count": 4,
   "metadata": {},
   "outputs": [
    {
     "name": "stdout",
     "output_type": "stream",
     "text": [
      "Количетво итераций: 14,\n",
      "Значение n: 16384\n",
      "Wall time: 63 ms\n"
     ]
    },
    {
     "data": {
      "text/plain": [
       "2.7173245304239826"
      ]
     },
     "execution_count": 4,
     "metadata": {},
     "output_type": "execute_result"
    }
   ],
   "source": [
    "%%time\n",
    "lim_expr = limit_expression2(1E-7)\n",
    "lim_expr"
   ]
  },
  {
   "cell_type": "markdown",
   "metadata": {},
   "source": [
    "63 мс против 1 мин 27 сек, разница внушительная. Правда, мы не получили точное значение n, при котором разница двух соседних элементов последовательности становится меньше эпсилон. Но более высокая точность лучше, чем более низкая, условие выполняется"
   ]
  }
 ],
 "metadata": {
  "kernelspec": {
   "display_name": "Python 3",
   "language": "python",
   "name": "python3"
  },
  "language_info": {
   "codemirror_mode": {
    "name": "ipython",
    "version": 3
   },
   "file_extension": ".py",
   "mimetype": "text/x-python",
   "name": "python",
   "nbconvert_exporter": "python",
   "pygments_lexer": "ipython3",
   "version": "3.8.5"
  }
 },
 "nbformat": 4,
 "nbformat_minor": 4
}
